{
 "cells": [
  {
   "cell_type": "markdown",
   "metadata": {},
   "source": [
    "\n",
    "Prepared by Otmane Ainelkitane\n",
    "- Email: otmaneaine@gmail.com\n",
    "- LinkedIn: [Otmane Ainelkitane](https://www.linkedin.com/in/otmane-ainelkitane/)\n"
   ]
  },
  {
   "cell_type": "markdown",
   "metadata": {},
   "source": [
    "# The Role of Quantum Key Distribution in Secure Communication\n",
    "\n",
    "## Introduction\n",
    "Secure communication is vital in today's digital age, where sensitive information is transmitted over various networks. Encryption plays a crucial role in safeguarding this information from unauthorized access. However, traditional encryption methods face challenges from advances in computing power and potential vulnerabilities in cryptographic algorithms. Quantum Key Distribution (QKD) offers a promising solution to address these challenges by leveraging the principles of quantum mechanics to establish secure keys between communicating parties. We will discuss the development of encryption and decryption functions using QKD, analyze the impact of an eavesdropper on key development, and explore the importance of QKD and other quantum encryption algorithms for future secure communication.\n",
    "\n",
    "## Development of Encryption and Decryption Functions\n",
    "The encryption and decryption functions implemented in this project utilize classical XOR encryption, augmented by a shared key generated through QKD.\n",
    "\n",
    "This method is refer to as Vernam cipher[2],(private key cryptographic system), sometimes called one-time-pad. Its main idea is that Alice and Bob share prior to the communication of the message, a private key, the secrecy of this key is crucial in these cryptographic systems, this can be fulfilled by confidential personal meeting between the two parties or delivered through trusted couriers or private secured communication links.\n",
    " \n",
    "The encryption function takes the original message and the shared key as input, iterates through each bit of the message, and performs a bitwise XOR operation with the corresponding bit of the key. The result is the encrypted message. The decryption function reverses this process, using the shared key to decrypt the encrypted message and recover the original plaintext(message).\n"
   ]
  },
  {
   "cell_type": "code",
   "execution_count": null,
   "metadata": {},
   "outputs": [],
   "source": [
    "# import all necessary libraries\n",
    "import cirq\n",
    "import random"
   ]
  },
  {
   "cell_type": "code",
   "execution_count": null,
   "metadata": {},
   "outputs": [],
   "source": [
    "# the message that Alice will communicate to Bob\n",
    "message = \"We are out of pizza\"\n",
    "# We need first to convert the message to its binary format\n",
    "# Get bytes of the message using UTF-8 encoding\n",
    "bytes_message = message.encode('utf-8')\n",
    "\n",
    "# Convert each byte to a binary string with leading zeros for 8 bits\n",
    "binary_message = ''.join(format(b, \"08b\") for b in bytes_message)\n",
    "# the length of binary_message\n",
    "n = len(binary_message)\n",
    "\n",
    "# QKD part\n",
    "Initial_key_lenght = int(4.3*n) # we will use 4.3 times the length of the binary_message as a safety measure\n",
    "Alice_qubits = cirq.LineQubit.range(Initial_key_lenght) # quantum register with Initial_key_lenght qubits\n",
    "# Quantum circuit for Alice state\n",
    "Alice_circuit = cirq.Circuit()\n",
    "\n",
    "Alice_initial_key=[] #Initial bit string to send\n",
    "Alice_basis=[] #List to save information about encoding basis\n",
    "Bob_basis=[] #List to save information about decoding basis\n",
    "\n",
    "#Creating random bit string\n",
    "binary_list = [0,1]\n",
    "equal_weights = [0.5, 0.5]\n",
    "# Alice chooses randomly a string of binary bits\n",
    "Alice_initial_key = random.choices(binary_list, weights=equal_weights, k=Initial_key_lenght)\n",
    "    \n",
    "#Preparing qubits, apply X gate if bit is equal 1\n",
    "for i, bit in enumerate(Alice_initial_key):\n",
    "    if bit==1:\n",
    "        Alice_circuit.append(cirq.X(Alice_qubits[i])) # apply x-gate\n",
    "\n",
    "#Encoding\n",
    "Encoding_basis = ['Z', 'X']\n",
    "Alice_basis = random.choices(Encoding_basis, weights=equal_weights, k=Initial_key_lenght) #Alice randomly pick a string of basis \n",
    "for i, basis in enumerate(Alice_basis):\n",
    "    if basis=='Z': #if basis is 'Z' , then she encodes the bit in Z basis(do nothing)\n",
    "        pass\n",
    "    else: #if basis is 'X' , then she encodes the bit in X basis\n",
    "        Alice_circuit.append(cirq.H(Alice_qubits[i]))\n",
    "\n",
    "print(\"Alice\\'s initial key \", Alice_initial_key)\n",
    "print('\\nAlice\\'s randmoly chosen bases: ', Alice_basis)\n",
    "#print('\\nAlice\\'s circuit:\\n', Alice_circuit)\n",
    "\n"
   ]
  },
  {
   "cell_type": "code",
   "execution_count": null,
   "metadata": {},
   "outputs": [],
   "source": [
    "# Decoding\n",
    "# Quantum circuit for Bob's state\n",
    "Bob_circuit = cirq.Circuit()\n",
    "\n",
    "Bob_basis = random.choices(Encoding_basis, weights=equal_weights, k=Initial_key_lenght) #Bob randomly pick a string of basis\n",
    "# Based on the randomly chosen basis, Bob apply that gate so can be able to measure in the appropriate basis\n",
    "for i, basis in enumerate(Bob_basis):\n",
    "    if basis=='Z': #if basis is 'Z'\n",
    "        pass \n",
    "    else: ##if basis is 'X'\n",
    "        Bob_circuit.append(cirq.H(Alice_qubits[i]))\n",
    "        \n",
    "\n",
    "# Bob measures the recieving qubits        \n",
    "Bob_circuit.append(cirq.measure(*Alice_qubits, key='Bob key'))\n",
    "# the whole circuit\n",
    "BB84_circuit = Alice_circuit + Bob_circuit\n",
    "\n",
    "# simulating the BB84 protocol  \n",
    "n_rep = 100\n",
    "sim = cirq.Simulator()\n",
    "results = sim.run(BB84_circuit, repetitions=n_rep)\n",
    "Bob_initial_key = results.measurements['Bob key'][0]\n",
    "\n",
    "\n",
    "\n",
    "print(\"Alice sent:\", Alice_initial_key)\n",
    "print(\"Alice encoding basis:\", Alice_basis)\n",
    "print(\"Bob received:\", Bob_initial_key)\n",
    "print(\"Bob decoding basis:\", Bob_basis)"
   ]
  },
  {
   "cell_type": "code",
   "execution_count": null,
   "metadata": {},
   "outputs": [],
   "source": [
    "#Sifting\n",
    "Alice_final_key=[] #Alice list for matching basis\n",
    "Bob_final_key=[] #Bob list for matching basis\n",
    "for j in range(len(Alice_basis)): #Going through list of bases \n",
    "    if Alice_basis[j] == Bob_basis[j]: #Comparing\n",
    "        #Keeping key bit if bases matched\n",
    "        Alice_final_key.append(Alice_initial_key[j])\n",
    "        Bob_final_key.append(Bob_initial_key[j]) \n",
    "    else:\n",
    "        pass #Discard round if bases mismatched\n",
    "\n",
    "print(\"Alice\\'s key =\", Alice_final_key)\n",
    "print(\"Bob key\\'s =\", Bob_final_key)"
   ]
  },
  {
   "cell_type": "markdown",
   "metadata": {},
   "source": [
    "We consider that the quantum channel used in this protocol is noiseless for simplicity, therefore the Quantum Bit Error Rate($QBER$) between Alice and Bob will only be caused by the eavesdropper Eve. Since we are simulating this protocol in the absence of Eve, we expect to have a $QBER = 0$, otherwise, we will have a $QBER > 0$.\n",
    "In the latter case, Alice and Bob would agree on a specific thershold, that if the $QBER$ exceeds the threshold, they would discard the compromised key and initiate the QKD process again to establish a new secure key.\n"
   ]
  },
  {
   "cell_type": "code",
   "execution_count": null,
   "metadata": {},
   "outputs": [],
   "source": [
    "#QBER\n",
    "batch = len(Alice_final_key)//2    #To divide without remainer, use //\n",
    "errors=0\n",
    "for i in range(batch):\n",
    "    bit_index = random.randrange(len(Alice_final_key)) \n",
    "    tested_bit = Alice_final_key[bit_index]\n",
    "    print (\"Alice randomly selected bit index =\", bit_index, \", and its value is = \", tested_bit)\n",
    "    if Alice_final_key[bit_index]!=Bob_final_key[bit_index]: #comparing tested rounds\n",
    "        errors=errors+1 #calculating errors\n",
    "    #removing tested bits from key strings\n",
    "    del Alice_final_key[bit_index] #Use del to specify the index of the element you want to delete\n",
    "    del Bob_final_key[bit_index]\n",
    "QBER=errors/batch #calculating QBER\n",
    "        \n",
    "print(\"QBER value =\", QBER)\n",
    "print(\"Alice's secret key =\", Alice_final_key)\n",
    "print(\"Bob's secret key =\", Bob_final_key)"
   ]
  },
  {
   "cell_type": "markdown",
   "metadata": {},
   "source": [
    "The encryption and decryption steps typically occur on a classical channel after the successful completion of the QKD process. Once Alice and Bob have established a secure key through QKD, they can use this shared key to encrypt and decrypt their messages using classical cryptographic algorithms."
   ]
  },
  {
   "cell_type": "code",
   "execution_count": 96,
   "metadata": {},
   "outputs": [],
   "source": [
    "#Encryption(Alice)\n",
    "# Use the generated shared key to encrypt the message using classical XOR encryption\n",
    "def encrypt_message(message, key):\n",
    "    encrypted_message = ''\n",
    "    for i in range(len(message)):\n",
    "        encrypted_bit = int(message[i]) ^ key[i]\n",
    "        encrypted_message += str(encrypted_bit)\n",
    "    return encrypted_message\n",
    "\n",
    "encrypted_message = encrypt_message(binary_message, Alice_final_key)"
   ]
  },
  {
   "cell_type": "code",
   "execution_count": 97,
   "metadata": {},
   "outputs": [],
   "source": [
    "# Decryption(Bob)\n",
    "def binary_to_str(binary_string, binary_length=8):\n",
    "    # Convert binary string to bytes\n",
    "    binary_bytes = bytes(int(binary_string[i:i+binary_length], 2) for i in range(0, len(binary_string), binary_length))\n",
    "    text = binary_bytes.decode('utf-8')\n",
    "    return text\n",
    "\n",
    "# Use the shared key received from Alice to decrypt the message\n",
    "def decrypt_message(encrypted_message, key):\n",
    "    decrypted_message = ''\n",
    "    for i in range(len(encrypted_message)):\n",
    "        decrypted_bit = int(encrypted_message[i]) ^ key[i]\n",
    "        decrypted_message += str(decrypted_bit)\n",
    "    return decrypted_message\n",
    "\n",
    "decrypted_message = decrypt_message(encrypted_message, Bob_final_key)\n",
    "# we will convert the binary message that Bob received into a string using the funtion we have built above.\n",
    "decrypted_message = binary_to_str(decrypted_message)\n",
    "\n",
    "\n"
   ]
  },
  {
   "cell_type": "code",
   "execution_count": 98,
   "metadata": {},
   "outputs": [
    {
     "name": "stdout",
     "output_type": "stream",
     "text": [
      "Encryption and decryption successful!\n",
      "Original message: We are out of pizza\n",
      "Decrypted message: We are out of pizza\n"
     ]
    }
   ],
   "source": [
    "#  Verification\n",
    "\n",
    "# Verify if the decrypted message matches the original message\n",
    "if decrypted_message == message:\n",
    "    print(\"Encryption and decryption successful!\")\n",
    "    print(\"Original message:\", message)\n",
    "    print(\"Decrypted message:\", decrypted_message)\n",
    "else:\n",
    "    print(\"Encryption and decryption failed!\")"
   ]
  },
  {
   "cell_type": "markdown",
   "metadata": {},
   "source": [
    "## Impact of an Eavesdropper on Key Development\n",
    "In the process of Quantum Key Distribution (QKD), Alice and Bob exchange quantum states to establish a shared key while monitoring for any interception attempts by an eavesdropper, traditionally referred to as Eve. However, if an eavesdropper intercepts the quantum states during key development, they will unavoidably alter the quantum states due to the principles of quantum mechanics.\n",
    "\n",
    "Under the assumption that Alice and Bob use a noiseless quantum channel, they can calculate the Quantum Bit Error Rate (QBER) to determine the existence of a potential eavesdropper after the sifting phase. During this phase, Alice and Bob discard the mismatching measurements (those in which they used different bases). If the QBER is greater than 0, then Eve is detected.\n",
    "\n",
    "It's important to note that in reality, all quantum channels suffer from noise. Therefore, Alice and Bob must account for this noise when calculating the QBER, as some quantum states will be altered even in the absence of an eavesdropper. This means that even without interference from Eve, the quantum channel noise can contribute to a non-zero QBER.\n",
    "\n",
    "Eve can exploit this quantum channel noise to her advantage. By intercepting the quantum states, she can gain partial information about the key without being detected. This compromises the security of the communication channel, as Eve could potentially decrypt the encrypted messages exchanged between Alice and Bob.\n",
    "\n",
    "## Importance of QKD and Quantum Encryption Algorithms\n",
    "The development of QKD and other quantum encryption algorithms is essential for ensuring the security of future communication systems. Unlike classical encryption methods, which rely on the difficulty of solving mathematical problems, quantum encryption leverages the fundamental principles of quantum mechanics, offering inherent security against eavesdropping attacks. QKD enables the generation of secure keys that are immune to interception attempts by eavesdroppers, making it a crucial component of quantum-safe communication protocols. Furthermore, the continuous advancement of quantum technologies holds the promise of achieving even more secure and efficient encryption schemes, paving the way for the future of secure communication.\n",
    "\n",
    "### Applications:\n",
    "\n",
    "1. **Banking and Financial Services:**\n",
    "   - QKD enhances the security of financial transactions, protecting sensitive information such as banking credentials, credit card numbers, and financial transactions from eavesdropping attacks.\n",
    "   - Banks and financial institutions can use QKD to establish secure communication channels between branches or with customers, ensuring the confidentiality and integrity of financial data.\n",
    "\n",
    "2. **Healthcare and Medical Records:**\n",
    "   - In healthcare, patient records and medical data contain highly sensitive information that must be protected from unauthorized access.\n",
    "   - QKD can be used to encrypt medical records and ensure the privacy of patient information, preventing unauthorized access or tampering.\n",
    "\n",
    "3. **Government and Military Communication:**\n",
    "   - Government agencies and military organizations require highly secure communication channels to exchange classified information and strategic plans.\n",
    "\n",
    "## Conclusion\n",
    "In conclusion, Quantum Key Distribution and quantum encryption algorithms offer a robust solution to the challenges of secure communication in the digital era. By leveraging the principles of quantum mechanics, these technologies enable the generation of secure keys and encryption methods that are resilient against eavesdropping attacks. As the field of quantum computing and communication continues to advance, the development and deployment of QKD and other quantum encryption algorithms will play a vital role in ensuring the security and privacy of communication systems in the future.\n",
    "\n",
    "## References\n",
    "1. Charles H. Bennett, Gilles Brassard. Quantum cryptography: Public key distribution and coin tossing. Proceedings of IEEE International Conference on Computers, Systems and Signal Processing, 1984.\n",
    "2. G. S. Vernam. Cipher Printing Telegraph Systems For Secret Wire and Radio Telegraphic Communications\n",
    "Transactions of the American Institute of Electrical Engineers, 1926.\n",
    "3. Preskill, J. (2018). Quantum Computing in the NISQ era and beyond. Quantum, 2, 79."
   ]
  }
 ],
 "metadata": {
  "kernelspec": {
   "display_name": "Python 3",
   "language": "python",
   "name": "python3"
  },
  "language_info": {
   "codemirror_mode": {
    "name": "ipython",
    "version": 3
   },
   "file_extension": ".py",
   "mimetype": "text/x-python",
   "name": "python",
   "nbconvert_exporter": "python",
   "pygments_lexer": "ipython3",
   "version": "3.10.14"
  }
 },
 "nbformat": 4,
 "nbformat_minor": 2
}
