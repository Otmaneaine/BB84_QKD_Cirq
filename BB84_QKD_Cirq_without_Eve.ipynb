{
 "cells": [
  {
   "cell_type": "code",
   "execution_count": 2,
   "metadata": {},
   "outputs": [],
   "source": [
    "# import all necessary objects and methods for quantum circuits\n",
    "import cirq\n",
    "import random"
   ]
  },
  {
   "cell_type": "code",
   "execution_count": null,
   "metadata": {},
   "outputs": [],
   "source": [
    "\n",
    "message = \"We are out of pizza\"\n",
    "# Get bytes of the message using UTF-8 encoding\n",
    "bytes_message = message.encode('utf-8')\n",
    "\n",
    "# Convert each byte to a binary string with leading zeros for 8 bits\n",
    "binary_message = ''.join(format(b, \"08b\") for b in bytes_message)\n",
    "n = len(binary_message)\n",
    "\n",
    "# QKD part\n",
    "Initial_key_lenght = int(4.3*n)\n",
    "Alice_qubits = cirq.LineQubit.range(Initial_key_lenght) # quantum register with Initial_key_lenght qubits\n",
    "# Quantum circuit for Alice state\n",
    "Alice_circuit = cirq.Circuit()\n",
    "\n",
    "Alice_initial_key=[] #Initial bit string to send\n",
    "Alice_basis=[] #List to save information about encoding basis\n",
    "Bob_basis=[] #List to save information about decoding basis\n",
    "\n",
    "#Creating random bit string\n",
    "binary_list = [0,1]\n",
    "binary_weights = [0.5, 0.5]\n",
    "# Alice chooses randomly a string of binary bits\n",
    "Alice_initial_key = random.choices(binary_list, weights=binary_weights, k=Initial_key_lenght)\n",
    "    \n",
    "#Preparing qubits, apply X gate if bit is equal 1\n",
    "for i, bit in enumerate(Alice_initial_key):\n",
    "    if bit==1:\n",
    "        Alice_circuit.append(cirq.X(Alice_qubits[i])) # apply x-gate\n",
    "\n",
    "#Encoding\n",
    "Encoding_basis = ['Z', 'X']\n",
    "Alice_basis = random.choices(Encoding_basis, weights=binary_weights, k=Initial_key_lenght) #Alice randomly pick a string of basis \n",
    "for i, basis in enumerate(Alice_basis):\n",
    "    if basis=='Z': #if basis is 'Z' , then she encodes the bit in Z basis(do nothing)\n",
    "        pass\n",
    "    else: #if basis is 'X' , then she encodes the bit in X basis\n",
    "        Alice_circuit.append(cirq.H(Alice_qubits[i]))\n",
    "\n",
    "print(\"Alice\\'s initial key \", Alice_initial_key)\n",
    "print('\\nAlice\\'s randmoly chosen bases: ', Alice_basis)\n",
    "#print('\\nAlice\\'s circuit:\\n', Alice_circuit)\n",
    "\n"
   ]
  },
  {
   "cell_type": "code",
   "execution_count": null,
   "metadata": {},
   "outputs": [],
   "source": [
    "# Quantum circuit for Bob's state\n",
    "Bob_circuit = cirq.Circuit()\n",
    "\n",
    "Bob_basis = random.choices(Encoding_basis, weights=binary_weights, k=Initial_key_lenght) #Bob randomly pick a string of basis\n",
    "# Based on the randomly chosen basis, Bob apply that gate so can be able to measuremnt in the appropriate basis\n",
    "for i, basis in enumerate(Bob_basis):\n",
    "    if basis=='Z': #if basis is 'Z'\n",
    "        pass \n",
    "    else: ##if basis is 'X'\n",
    "        Bob_circuit.append(cirq.H(Alice_qubits[i]))\n",
    "        \n",
    "\n",
    "# Bob measures the recieving qubits        \n",
    "Bob_circuit.append(cirq.measure(*Alice_qubits, key='Bob key'))\n",
    "# the whole circuit\n",
    "BB84_circuit = Alice_circuit + Bob_circuit\n",
    "\n",
    "# simulating the BB84 protocol  \n",
    "n_rep = 100\n",
    "sim = cirq.Simulator()\n",
    "results = sim.run(BB84_circuit, repetitions=n_rep)\n",
    "Bob_initial_key = results.measurements['Bob key'][0]\n",
    "\n",
    "\n",
    "\n",
    "print(\"Alice sent:\", Alice_initial_key)\n",
    "print(\"Alice encoding basis:\", Alice_basis)\n",
    "print(\"Bob received:\", Bob_initial_key)\n",
    "print(\"Bob decoding basis:\", Bob_basis)"
   ]
  },
  {
   "cell_type": "code",
   "execution_count": null,
   "metadata": {},
   "outputs": [],
   "source": [
    "#Sifting\n",
    "Alice_final_key=[] #Alice list for matching basis\n",
    "Bob_final_key=[] #Bob list for matching basis\n",
    "for j in range(len(Alice_basis)): #Going through list of bases \n",
    "    if Alice_basis[j] == Bob_basis[j]: #Comparing\n",
    "        #Keeping key bit if bases matched\n",
    "        Alice_final_key.append(Alice_initial_key[j])\n",
    "        Bob_final_key.append(Bob_initial_key[j]) \n",
    "    else:\n",
    "        pass #Discard round if bases mismatched\n",
    "\n",
    "print(\"Alice\\'s key =\", Alice_final_key)\n",
    "print(\"Bob key\\'s =\", Bob_final_key)"
   ]
  },
  {
   "cell_type": "code",
   "execution_count": null,
   "metadata": {},
   "outputs": [],
   "source": [
    "#QBER\n",
    "batch = len(Alice_final_key)//2    #To divide without remainer, use //\n",
    "errors=0\n",
    "for i in range(batch):\n",
    "    bit_index = random.randrange(len(Alice_final_key)) \n",
    "    tested_bit = Alice_final_key[bit_index]\n",
    "    print (\"Alice randomly selected bit index =\", bit_index, \", and its value is = \", tested_bit)\n",
    "    if Alice_final_key[bit_index]!=Bob_final_key[bit_index]: #comparing tested rounds\n",
    "        errors=errors+1 #calculating errors\n",
    "    #removing tested bits from key strings\n",
    "    del Alice_final_key[bit_index] #Use del to specify the index of the element you want to delete\n",
    "    del Bob_final_key[bit_index]\n",
    "QBER=errors/batch #calculating QBER\n",
    "        \n",
    "print(\"QBER value =\", QBER)\n",
    "print(\"Alice's secret key =\", Alice_final_key)\n",
    "print(\"Bob's secret key =\", Bob_final_key)"
   ]
  },
  {
   "cell_type": "code",
   "execution_count": 96,
   "metadata": {},
   "outputs": [],
   "source": [
    "#Encryption\n",
    "# Use the generated shared key to encrypt the message using classical XOR encryption\n",
    "def encrypt_message(message, key):\n",
    "    encrypted_message = ''\n",
    "    for i in range(len(message)):\n",
    "        encrypted_bit = int(message[i]) ^ key[i]\n",
    "        encrypted_message += str(encrypted_bit)\n",
    "    return encrypted_message\n",
    "\n",
    "encrypted_message = encrypt_message(binary_message, Alice_final_key)"
   ]
  },
  {
   "cell_type": "code",
   "execution_count": 97,
   "metadata": {},
   "outputs": [],
   "source": [
    "# Decryption\n",
    "def binary_to_str(binary_string, binary_length=8):\n",
    "    # Convert binary string to bytes\n",
    "    binary_bytes = bytes(int(binary_string[i:i+binary_length], 2) for i in range(0, len(binary_string), binary_length))\n",
    "    text = binary_bytes.decode('utf-8')\n",
    "    return text\n",
    "\n",
    "# Use the shared key received from Alice to decrypt the message\n",
    "def decrypt_message(encrypted_message, key):\n",
    "    decrypted_message = ''\n",
    "    for i in range(len(encrypted_message)):\n",
    "        decrypted_bit = int(encrypted_message[i]) ^ key[i]\n",
    "        decrypted_message += str(decrypted_bit)\n",
    "    return decrypted_message\n",
    "\n",
    "decrypted_message = decrypt_message(encrypted_message, Bob_final_key)\n",
    "decrypted_message = binary_to_str(decrypted_message)\n",
    "\n",
    "\n"
   ]
  },
  {
   "cell_type": "code",
   "execution_count": 98,
   "metadata": {},
   "outputs": [
    {
     "name": "stdout",
     "output_type": "stream",
     "text": [
      "Encryption and decryption successful!\n",
      "Original message: We are out of pizza\n",
      "Decrypted message: We are out of pizza\n"
     ]
    }
   ],
   "source": [
    "#  Verification\n",
    "\n",
    "# Verify if the decrypted message matches the original message\n",
    "if decrypted_message == message:\n",
    "    print(\"Encryption and decryption successful!\")\n",
    "    print(\"Original message:\", message)\n",
    "    print(\"Decrypted message:\", decrypted_message)\n",
    "else:\n",
    "    print(\"Encryption and decryption failed!\")"
   ]
  }
 ],
 "metadata": {
  "kernelspec": {
   "display_name": "Python 3",
   "language": "python",
   "name": "python3"
  },
  "language_info": {
   "codemirror_mode": {
    "name": "ipython",
    "version": 3
   },
   "file_extension": ".py",
   "mimetype": "text/x-python",
   "name": "python",
   "nbconvert_exporter": "python",
   "pygments_lexer": "ipython3",
   "version": "3.10.14"
  }
 },
 "nbformat": 4,
 "nbformat_minor": 2
}
